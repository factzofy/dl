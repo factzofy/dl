{
  "nbformat": 4,
  "nbformat_minor": 0,
  "metadata": {
    "colab": {
      "provenance": []
    },
    "kernelspec": {
      "name": "python3",
      "display_name": "Python 3"
    },
    "language_info": {
      "name": "python"
    }
  },
  "cells": [
    {
      "cell_type": "markdown",
      "source": [
        "Neural Network for AND function"
      ],
      "metadata": {
        "id": "7sll1mllkQWP"
      }
    },
    {
      "cell_type": "code",
      "execution_count": null,
      "metadata": {
        "colab": {
          "base_uri": "https://localhost:8080/"
        },
        "id": "brfO0ZW-ftSt",
        "outputId": "252880a6-acce-42d0-e7a1-96b21e592f5e"
      },
      "outputs": [
        {
          "output_type": "stream",
          "name": "stdout",
          "text": [
            "Input vector :\n",
            " [[0 0]\n",
            " [0 1]\n",
            " [1 0]\n",
            " [1 1]]\n",
            "output [0, 0, 0, 1]\n"
          ]
        }
      ],
      "source": [
        "import numpy as np\n",
        "class and_NN:\n",
        "  def __init__(self,iv):\n",
        "    self.input_vector = np.array(iv)\n",
        "    self.weight_vector = np.array([[-1.5,1,1]])\n",
        "    self.output = np.array([])\n",
        "\n",
        "  def compute(self):\n",
        "    mfv= np.c_[np.ones(4),self.input_vector]\n",
        "    result = mfv.dot(self.weight_vector.transpose())\n",
        "    self.output= [0 if r<0 else 1 for r in result]\n",
        "\n",
        "  def show_result(self):\n",
        "      print(\"Input vector :\\n\",self.input_vector)\n",
        "      print(\"output\", self.output)\n",
        "\n",
        "  def get_output(self):\n",
        "      return self.output\n",
        "\n",
        "n = and_NN(np.array([[0,0],[0,1],[1,0],[1,1]]))\n",
        "n.compute()\n",
        "n.show_result()\n",
        "\n"
      ]
    },
    {
      "cell_type": "markdown",
      "source": [
        "\n",
        "Neural Network for OR function"
      ],
      "metadata": {
        "id": "QClbX_eplFov"
      }
    },
    {
      "cell_type": "code",
      "source": [
        "import numpy as np\n",
        "class or_NN:\n",
        "  def __init__(self,iv):\n",
        "    self.input_vector = np.array(iv)\n",
        "    self.weight_vector = np.array([[-1.5,1,1]])\n",
        "    self.output = np.array([])\n",
        "\n",
        "  def compute(self):\n",
        "      mfv = np.c_[np.ones(4),self.input_vector]\n",
        "      result = mfv.dot(self.weight_vector.transpose())\n",
        "      self.output = [ 0 if r>0 else 1 for r in result]\n",
        "\n",
        "  def show_result(self):\n",
        "      print(\"Input vector :\\n\",self.input_vector)\n",
        "      print(\"output\", self.output)\n",
        "\n",
        "  def get_output(self):\n",
        "      return self.output\n",
        "\n",
        "n = or_NN(np.array([[1,1],[0,1],[1,0],[0,0]]))\n",
        "n.compute()\n",
        "n.show_result()"
      ],
      "metadata": {
        "colab": {
          "base_uri": "https://localhost:8080/"
        },
        "id": "I3TjOun6kaRn",
        "outputId": "7b15b9f1-3af2-4c60-ac41-bd8319be49d6"
      },
      "execution_count": null,
      "outputs": [
        {
          "output_type": "stream",
          "name": "stdout",
          "text": [
            "Input vector :\n",
            " [[1 1]\n",
            " [0 1]\n",
            " [1 0]\n",
            " [0 0]]\n",
            "output [0, 1, 1, 1]\n"
          ]
        }
      ]
    },
    {
      "cell_type": "code",
      "source": [
        "import numpy as np\n",
        "class and_NN:\n",
        "  def __init__(self,iv):\n",
        "    self.input_vector = np.array(iv)\n",
        "    self.weight_vector = np.array([[-1.5,1,1]])\n",
        "    self.output = np.array([])\n",
        "\n",
        "  def compute(self):\n",
        "    mfv= np.c_[np.ones(4),self.input_vector]\n",
        "    result = mfv.dot(self.weight_vector.transpose())\n",
        "    self.output= [1 if r<0 else 0 for r in result]\n",
        "\n",
        "  def show_result(self):\n",
        "      print(\"Input vector :\\n\",self.input_vector)\n",
        "      print(\"output\", self.output)\n",
        "\n",
        "  def get_output(self):\n",
        "      return self.output\n",
        "\n",
        "n = and_NN(np.array([[0,0],[0,1],[1,0],[1,1]]))\n",
        "n.compute()\n",
        "n.show_result()"
      ],
      "metadata": {
        "colab": {
          "base_uri": "https://localhost:8080/"
        },
        "id": "f63TDzlRncdi",
        "outputId": "2702d46d-f702-40fb-f32a-6849ea94e78a"
      },
      "execution_count": null,
      "outputs": [
        {
          "output_type": "stream",
          "name": "stdout",
          "text": [
            "Input vector :\n",
            " [[0 0]\n",
            " [0 1]\n",
            " [1 0]\n",
            " [1 1]]\n",
            "output [1, 1, 1, 0]\n"
          ]
        }
      ]
    },
    {
      "cell_type": "code",
      "source": [
        "import numpy as np\n",
        "class or_NN:\n",
        "  def __init__(self,iv):\n",
        "    self.input_vector = np.array(iv)\n",
        "    self.weight_vector = np.array([[-1.5,1,1]])\n",
        "    self.output = np.array([])\n",
        "\n",
        "  def compute(self):\n",
        "      mfv = np.c_[np.ones(4),self.input_vector]\n",
        "      result = mfv.dot(self.weight_vector.transpose())\n",
        "      self.output = [ 1 if r>0 else 0 for r in result]\n",
        "\n",
        "  def show_result(self):\n",
        "      print(\"Input vector :\\n\",self.input_vector)\n",
        "      print(\"output\", self.output)\n",
        "\n",
        "  def get_output(self):\n",
        "      return self.output\n",
        "\n",
        "n = or_NN(np.array([[1,1],[0,1],[1,0],[0,0]]))\n",
        "n.compute()\n",
        "n.show_result()"
      ],
      "metadata": {
        "colab": {
          "base_uri": "https://localhost:8080/"
        },
        "id": "s2zIrMoDntd9",
        "outputId": "b2e3ca2e-b408-4a58-ab1d-263f2b576da1"
      },
      "execution_count": null,
      "outputs": [
        {
          "output_type": "stream",
          "name": "stdout",
          "text": [
            "Input vector :\n",
            " [[1 1]\n",
            " [0 1]\n",
            " [1 0]\n",
            " [0 0]]\n",
            "output [1, 0, 0, 0]\n"
          ]
        }
      ]
    }
  ]
}